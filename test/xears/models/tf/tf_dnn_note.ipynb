{
 "cells": [
  {
   "cell_type": "code",
   "execution_count": 15,
   "metadata": {
    "collapsed": true
   },
   "outputs": [],
   "source": [
    "#coding:utf-8\n",
    "#dnn_train.py\n",
    "\n",
    "import os\n",
    "import sys\n",
    "import tensorflow as tf\n",
    "from tensorflow.examples.tutorials.mnist import input_data\n",
    "\n",
    "#加载 dnn_inference.py 中定义的常量和前向传播的函数\n",
    "import dnn_inference\n",
    "\n",
    "#配置神经网络参数\n",
    "BATCH_SIZE = 100\n",
    "LEARNING_RATE_BASE = 0.5\n",
    "LEARNING_RATE_DECAY = 0.99\n",
    "REGULARAZTION_RATE = 0.0001\n",
    "TRAINING_STEPS = 9001\n",
    "MOVING_AVERAGE_DECAY = 0.99\n",
    "PATH = os.path.abspath(os.path.dirname(sys.argv[0]))\n",
    "#模型保存的路径和文件名\n",
    "MODEL_SAVE_PATH = PATH+'/output/'\n",
    "MODEL_NAME = \"model.ckpt\"\n",
    "\n",
    "INPUT_NODE,LAYER1_NODE,LAYER2_NODE,OUTPUT_NODE = dnn_inference.get_node_dims()\n",
    "\n",
    "\n",
    "def train(data_set):\n",
    "    x = tf.placeholder(tf.float32, [None, INPUT_NODE], name='x-input')\n",
    "    y_ = tf.placeholder(tf.float32, [None, OUTPUT_NODE], name='y_input')\n",
    "    #返回regularizer函数，L2正则化项的值\n",
    "    regularizer = tf.contrib.layers.l2_regularizer(REGULARAZTION_RATE)\n",
    "    #使用dnn_inference.py中定义的前向传播过程\n",
    "    y=dnn_inference.inference(x,regularizer)\n",
    "    #定义step为0\n",
    "    global_step = tf.Variable(0, trainable=False)\n",
    "\n",
    "    #滑动平均,由衰减率和步数确定\n",
    "    variable_averages = tf.train.ExponentialMovingAverage(MOVING_AVERAGE_DECAY, global_step)\n",
    "    #可训练参数的集合\n",
    "    variables_averages_op = variable_averages.apply(tf.trainable_variables())\n",
    "    #交叉熵损失 函数\n",
    "    cross_entropy =  tf.nn.sparse_softmax_cross_entropy_with_logits(logits=y,  labels=tf.argmax(y_, 1))\n",
    "    #交叉熵平均值\n",
    "    cross_entropy_mean = tf.reduce_mean(cross_entropy)\n",
    "    #总损失\n",
    "    loss = cross_entropy_mean + tf.add_n(tf.get_collection('losses'))\n",
    "    #学习率(衰减)\n",
    "    learning_rate = tf.train.exponential_decay(LEARNING_RATE_BASE, global_step, data_set.train.num_examples / BATCH_SIZE, LEARNING_RATE_DECAY)\n",
    "    #定义了反向传播的优化方法，之后通过sess.run(train_step)就可以对所有GraphKeys.TRAINABLE_VARIABLES集合中的变量进行优化，似的当前batch下损失函数更小\n",
    "    train_step = tf.train.GradientDescentOptimizer(learning_rate).minimize(loss, global_step=global_step)\n",
    "    #更新参数\n",
    "    with tf.control_dependencies([train_step, variables_averages_op]):\n",
    "        train_op = tf.no_op(name='train')\n",
    "\n",
    "    saver = tf.train.Saver()\n",
    "\n",
    "    #初始会话，并开始训练过程\n",
    "    with tf.Session() as sess:\n",
    "        tf.global_variables_initializer().run()\n",
    "        for i in range(TRAINING_STEPS):\n",
    "            xs, ys = data_set.train.next_batch(BATCH_SIZE)\n",
    "            op, loss_value, step = sess.run([train_op, loss, global_step], feed_dict={x: xs, y_: ys})\n",
    "            if i % 1000 == 0:\n",
    "                print (\"After %d training step(s), loss on training batch is %g.\" % (step, loss_value))\n",
    "\n",
    "        saver.save(sess, os.path.join(MODEL_SAVE_PATH, MODEL_NAME), global_step=global_step)\n",
    "\n",
    "def main(argv=None):\n",
    "    mnist = input_data.read_data_sets(\"/User/dawei/AI/DNN/data\", one_hot=True)\n",
    "    #train(mnist)\n",
    "    print(mnist.train)\n",
    "\n",
    "#if __name__ == '__main__':\n",
    "#   tf.app.run()\n"
   ]
  },
  {
   "cell_type": "code",
   "execution_count": 16,
   "metadata": {},
   "outputs": [
    {
     "name": "stdout",
     "output_type": "stream",
     "text": [
      "Extracting /User/dawei/AI/DNN/data\\train-images-idx3-ubyte.gz\n",
      "Extracting /User/dawei/AI/DNN/data\\train-labels-idx1-ubyte.gz\n",
      "Extracting /User/dawei/AI/DNN/data\\t10k-images-idx3-ubyte.gz\n",
      "Extracting /User/dawei/AI/DNN/data\\t10k-labels-idx1-ubyte.gz\n",
      "<tensorflow.contrib.learn.python.learn.datasets.mnist.DataSet object at 0x000000001BCA7908>\n"
     ]
    }
   ],
   "source": [
    "main()"
   ]
  },
  {
   "cell_type": "code",
   "execution_count": null,
   "metadata": {
    "collapsed": true
   },
   "outputs": [],
   "source": []
  },
  {
   "cell_type": "code",
   "execution_count": null,
   "metadata": {
    "collapsed": true
   },
   "outputs": [],
   "source": []
  }
 ],
 "metadata": {
  "kernelspec": {
   "display_name": "Python 3",
   "language": "python",
   "name": "python3"
  },
  "language_info": {
   "codemirror_mode": {
    "name": "ipython",
    "version": 3
   },
   "file_extension": ".py",
   "mimetype": "text/x-python",
   "name": "python",
   "nbconvert_exporter": "python",
   "pygments_lexer": "ipython3",
   "version": "3.5.2"
  }
 },
 "nbformat": 4,
 "nbformat_minor": 2
}
